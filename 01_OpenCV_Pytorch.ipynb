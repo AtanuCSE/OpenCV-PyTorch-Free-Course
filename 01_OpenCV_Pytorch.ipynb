{
  "nbformat": 4,
  "nbformat_minor": 0,
  "metadata": {
    "colab": {
      "provenance": [],
      "gpuType": "T4"
    },
    "kernelspec": {
      "name": "python3",
      "display_name": "Python 3"
    },
    "language_info": {
      "name": "python"
    },
    "accelerator": "GPU"
  },
  "cells": [
    {
      "cell_type": "markdown",
      "source": [
        "# Pytorch Tutorial from OpenCV"
      ],
      "metadata": {
        "id": "QfT7TUsnwZZ8"
      }
    },
    {
      "cell_type": "code",
      "execution_count": 1,
      "metadata": {
        "id": "Vj_rvoNPwEvA"
      },
      "outputs": [],
      "source": [
        "# Download some digit images from MNIST dataset\n",
        "!wget -q \"https://learnopencv.com/wp-content/uploads/2024/07/mnist_0.jpg\" -O \"mnist_0.jpg\"\n",
        "!wget -q \"https://learnopencv.com/wp-content/uploads/2024/07/mnist_1.jpg\" -O \"mnist_1.jpg\""
      ]
    },
    {
      "cell_type": "code",
      "source": [
        "import torch\n",
        "import matplotlib.pyplot as plt\n",
        "import numpy as np\n",
        "import cv2"
      ],
      "metadata": {
        "id": "fT-LI9K4wWIz"
      },
      "execution_count": 2,
      "outputs": []
    },
    {
      "cell_type": "code",
      "source": [
        "print(\"torch version : {}\".format(torch.__version__))"
      ],
      "metadata": {
        "colab": {
          "base_uri": "https://localhost:8080/"
        },
        "id": "PlUgeU8Ewmqu",
        "outputId": "084f1195-a27f-416d-efe7-fda66e0cff77"
      },
      "execution_count": 3,
      "outputs": [
        {
          "output_type": "stream",
          "name": "stdout",
          "text": [
            "torch version : 2.6.0+cu124\n"
          ]
        }
      ]
    },
    {
      "cell_type": "markdown",
      "source": [
        "- Tensors: In PyTorch, tensors are multi-dimensional arrays similar to NumPy arrays, but with additional capabilities for GPU acceleration and automatic differentiation. Tensors are the fundamental building blocks for representing data and parameters in neural networks.\n",
        "- Batches: Batching is a technique where multiple data samples (images, in this case) are grouped together into a single tensor. This allows efficient processing of multiple samples simultaneously, to take advantage of the parallel processing capabilities of modern hardware."
      ],
      "metadata": {
        "id": "BSIg-6uWxUv9"
      }
    },
    {
      "cell_type": "markdown",
      "source": [
        "| Tensor Rank | Example               | Shape          |\n",
        "| ----------- | --------------------- | -------------- |\n",
        "| 0 (Scalar)  | `42`                  | `()`           |\n",
        "| 1 (Vector)  | `[1.0, 2.0, 3.0]`     | `(3,)`         |\n",
        "| 2 (Matrix)  | `[[1, 2], [3, 4]]`    | `(2, 2)`       |\n",
        "| 3+ (Tensor) | Batch of images, etc. | `(B, C, H, W)` |\n"
      ],
      "metadata": {
        "id": "RDAX1UdQxJUe"
      }
    },
    {
      "cell_type": "markdown",
      "source": [
        "| Symbol | Meaning                                                        | Example for an RGB Image    |\n",
        "| ------ | -------------------------------------------------------------- | --------------------------- |\n",
        "| `B`    | **Batch size** – number of images in one pass                  | `32` images in a mini-batch |\n",
        "| `C`    | **Channels** – color channels (`1` for grayscale, `3` for RGB) | `3`                         |\n",
        "| `H`    | **Height** – image height in pixels                            | `224`                       |\n",
        "| `W`    | **Width** – image width in pixels                              | `224`                       |\n",
        "\n"
      ],
      "metadata": {
        "id": "m9Pbd0thxkM7"
      }
    },
    {
      "cell_type": "code",
      "source": [
        "# Show images\n",
        "\n",
        "digit_0_array_og = cv2.imread(\"mnist_0.jpg\")\n",
        "digit_1_array_og = cv2.imread(\"mnist_1.jpg\")\n",
        "\n",
        "digit_0_array_gray = cv2.imread(\"mnist_0.jpg\",cv2.IMREAD_GRAYSCALE )\n",
        "digit_1_array_gray = cv2.imread(\"mnist_1.jpg\",cv2.IMREAD_GRAYSCALE )\n",
        "\n",
        "# Visualize the image\n",
        "\n",
        "fig, axs = plt.subplots(1,2, figsize=(10,5))\n",
        "\n",
        "\n",
        "axs[0].imshow(digit_0_array_og, cmap='gray',interpolation='none')\n",
        "axs[0].set_title(\"Digit 0 Image\")\n",
        "axs[0].axis('off')\n",
        "\n",
        "axs[1].imshow(digit_1_array_og, cmap=\"gray\", interpolation = 'none')\n",
        "axs[1].set_title(\"Digit 1 Image\")\n",
        "axs[1].axis('off')\n",
        "\n",
        "plt.show()\n",
        "\n",
        "#Numpy array with three channels\n",
        "print(\"Image array shape: \",digit_0_array_og.shape)\n",
        "print(f\"Min pixel value:{np.min(digit_0_array_og)} ; Max pixel value : {np.max(digit_0_array_og)}\")\n",
        "print(\"Gray Image array shape: \",digit_0_array_gray.shape)"
      ],
      "metadata": {
        "colab": {
          "base_uri": "https://localhost:8080/",
          "height": 463
        },
        "id": "C9EnXK9wxK30",
        "outputId": "39a126c5-d985-4301-ecb9-bc5e98954824"
      },
      "execution_count": 4,
      "outputs": [
        {
          "output_type": "display_data",
          "data": {
            "text/plain": [
              "<Figure size 1000x500 with 2 Axes>"
            ],
            "image/png": "[encoded data removed]"
          },
          "metadata": {}
        },
        {
          "output_type": "stream",
          "name": "stdout",
          "text": [
            "Image array shape:  (28, 28, 3)\n",
            "Min pixel value:0 ; Max pixel value : 255\n",
            "Gray Image array shape:  (28, 28)\n"
          ]
        }
      ]
    },
    {
      "cell_type": "code",
      "source": [
        "# Convert the images to PyTorch tensors and normalize\n",
        "img_tensor_0 = torch.tensor(digit_0_array_og, dtype=torch.float32) / 255.0\n",
        "img_tensor_1 = torch.tensor(digit_1_array_og, dtype=torch.float32) / 255.0\n",
        "\n",
        "print(\"Shape of Normalised Digit 0 Tensor: \", img_tensor_0.shape)\n",
        "print(f\"Normalised Min pixel value: {torch.min(img_tensor_0)} ; Normalised Max pixel value : {torch.max(img_tensor_0)}\")\n",
        "\n",
        "plt.imshow(img_tensor_0,cmap=\"gray\")\n",
        "plt.title(\"Normalised Digit 0 Image\")\n",
        "plt.axis('off')\n",
        "plt.show()"
      ],
      "metadata": {
        "colab": {
          "base_uri": "https://localhost:8080/",
          "height": 463
        },
        "id": "nwP8s6zAyPzF",
        "outputId": "544cc5bc-0627-4af3-ab13-7c808a163d20"
      },
      "execution_count": 5,
      "outputs": [
        {
          "output_type": "stream",
          "name": "stdout",
          "text": [
            "Shape of Normalised Digit 0 Tensor:  torch.Size([28, 28, 3])\n",
            "Normalised Min pixel value: 0.0 ; Normalised Max pixel value : 1.0\n"
          ]
        },
        {
          "output_type": "display_data",
          "data": {
            "text/plain": [
              "<Figure size 640x480 with 1 Axes>"
            ],
            "image/png": "[encoded data removed]"
          },
          "metadata": {}
        }
      ]
    },
    {
      "cell_type": "markdown",
      "source": [
        "___\n",
        "## Creating Batch"
      ],
      "metadata": {
        "id": "FqIwa9zEyXzs"
      }
    },
    {
      "cell_type": "code",
      "source": [
        "batch_tensor = torch.stack([img_tensor_0, img_tensor_1])\n",
        "\n",
        "# In PyTorch the forward pass of input images to the model is expected to have a batch_size > 1\n",
        "print(\"Batch Tensor Shape:\", batch_tensor.shape)\n",
        "print(\"Format [Batch number, H, W, Channel]\")\n",
        "\n",
        "# But Torch generally use the format (B, C, H, W)\n"
      ],
      "metadata": {
        "colab": {
          "base_uri": "https://localhost:8080/"
        },
        "id": "6dUCTDJXybg8",
        "outputId": "ce2ce983-cfff-47a2-b46c-891034c82cf1"
      },
      "execution_count": 6,
      "outputs": [
        {
          "output_type": "stream",
          "name": "stdout",
          "text": [
            "Batch Tensor Shape: torch.Size([2, 28, 28, 3])\n",
            "Format [Batch number, H, W, Channel]\n"
          ]
        }
      ]
    },
    {
      "cell_type": "markdown",
      "source": [
        "Additionally in PyTorch, image tensors typically follow the shape convention [N ,C ,H ,W] unlike tensorflow which follows [N, H, W, C].\n",
        "\n",
        "batch_input = batch_tensor.permute(0,3,1,2)\n",
        "\n",
        "| Old Index | Meaning | New Index | After `.permute` |\n",
        "| --------- | ------- | --------- | ---------------- |\n",
        "| `0`       | `B`     | `0`       | Batch stays      |\n",
        "| `1`       | `H`     | `2`       | Becomes 3rd dim  |\n",
        "| `2`       | `W`     | `3`       | Becomes 4th dim  |\n",
        "| `3`       | `C`     | `1`       | Moved to 2nd dim |\n"
      ],
      "metadata": {
        "id": "QntqP64NzJJ2"
      }
    },
    {
      "cell_type": "code",
      "source": [
        "batch_input = batch_tensor.permute(0,3,1,2)\n",
        "print(\"Batch Tensor Shape:\", batch_input.shape)"
      ],
      "metadata": {
        "colab": {
          "base_uri": "https://localhost:8080/"
        },
        "id": "H4QfTylhzP_S",
        "outputId": "d0ea75e5-5745-482f-d14b-fdae155ce7ab"
      },
      "execution_count": 7,
      "outputs": [
        {
          "output_type": "stream",
          "name": "stdout",
          "text": [
            "Batch Tensor Shape: torch.Size([2, 3, 28, 28])\n"
          ]
        }
      ]
    },
    {
      "cell_type": "markdown",
      "source": [
        "___\n",
        "# Intro to Tensor and Operations"
      ],
      "metadata": {
        "id": "j68BnRXIzioB"
      }
    },
    {
      "cell_type": "markdown",
      "source": [
        "<img src=https://learnopencv.com/wp-content/uploads/2019/05/PyTorch-Tensors.jpg width = 400 height=350>"
      ],
      "metadata": {
        "id": "OqzyS8mezoCV"
      }
    },
    {
      "cell_type": "markdown",
      "source": [
        "Torch tensors are simply data structure like numpy"
      ],
      "metadata": {
        "id": "tHiaLNwRz2rZ"
      }
    },
    {
      "cell_type": "code",
      "source": [
        "int_tensor = torch.tensor([[1,2,3],[4,5,6]])\n",
        "print(int_tensor.dtype)\n",
        "\n",
        "# What if we changed any one element to floating point number?\n",
        "int_tensor = torch.tensor([[1,2,3],[4.,5,6]])\n",
        "print(int_tensor.dtype)\n",
        "print(int_tensor)\n",
        "\n",
        "# This can be overridden as follows\n",
        "float_tensor = torch.tensor([[1, 2, 3],[4., 5, 6]])\n",
        "int_tensor = float_tensor.type(torch.int64)\n",
        "print(int_tensor.dtype)\n",
        "print(int_tensor)"
      ],
      "metadata": {
        "colab": {
          "base_uri": "https://localhost:8080/"
        },
        "id": "l8PuEqdRzjRc",
        "outputId": "70a441c5-8277-4b45-ec9f-82804d0c4301"
      },
      "execution_count": 8,
      "outputs": [
        {
          "output_type": "stream",
          "name": "stdout",
          "text": [
            "torch.int64\n",
            "torch.float32\n",
            "tensor([[1., 2., 3.],\n",
            "        [4., 5., 6.]])\n",
            "torch.int64\n",
            "tensor([[1, 2, 3],\n",
            "        [4, 5, 6]])\n"
          ]
        }
      ]
    },
    {
      "cell_type": "code",
      "source": [
        "# Tensor to Numpy and Numpy to Tensor\n",
        "\n",
        "# Tensor to Array\n",
        "int_tensor_numpy = int_tensor.numpy()\n",
        "print(int_tensor_numpy)\n",
        "\n",
        "# Array to Tensor\n",
        "new_array = np.array([[8,7,6,5],[4,3,2,1]])\n",
        "converted_tensor = torch.from_numpy(new_array)\n",
        "print(converted_tensor)"
      ],
      "metadata": {
        "colab": {
          "base_uri": "https://localhost:8080/"
        },
        "id": "A7Qbyz9l0EOD",
        "outputId": "a1279a9d-3656-4211-adb2-1e515209b181"
      },
      "execution_count": 9,
      "outputs": [
        {
          "output_type": "stream",
          "name": "stdout",
          "text": [
            "[[1 2 3]\n",
            " [4 5 6]]\n",
            "tensor([[8, 7, 6, 5],\n",
            "        [4, 3, 2, 1]])\n"
          ]
        }
      ]
    },
    {
      "cell_type": "markdown",
      "source": [
        "Arrithmetic operations, Broadcasting are similar to numpy"
      ],
      "metadata": {
        "id": "_DgvoItC0gVs"
      }
    },
    {
      "cell_type": "markdown",
      "source": [
        "## CUDA / GPU"
      ],
      "metadata": {
        "id": "540GS8ls0okq"
      }
    },
    {
      "cell_type": "code",
      "source": [
        "# Check if CUDA is available\n",
        "\n",
        "#*****************************************\n",
        "# Turn ON GPU in Google Colab\n",
        "#******************************************\n",
        "device = torch.device(\"cuda\" if torch.cuda.is_available() else \"cpu\")\n",
        "print(device)"
      ],
      "metadata": {
        "colab": {
          "base_uri": "https://localhost:8080/"
        },
        "id": "BUSm7nVf0uX-",
        "outputId": "27612439-5c21-4a9f-8d2f-32adfd7c434e"
      },
      "execution_count": 10,
      "outputs": [
        {
          "output_type": "stream",
          "name": "stdout",
          "text": [
            "cuda\n"
          ]
        }
      ]
    },
    {
      "cell_type": "code",
      "source": [
        "# Create a tensor for CPU\n",
        "# This will occupy CPU RAM\n",
        "tensor_cpu = torch.tensor([[1.0, 2.0], [3.0, 4.0], [5.0, 6.0]], device='cpu')\n",
        "\n",
        "# Create a tensor for GPU\n",
        "# This will occupy GPU RAM\n",
        "tensor_gpu = torch.tensor([[1.0, 2.0], [3.0, 4.0], [5.0, 6.0]], device='cuda')\n",
        "\n",
        "# Move GPU tensor to CPU\n",
        "tensor_gpu_cpu = tensor_gpu.to(device='cpu')\n",
        "\n",
        "# Move CPU tensor to GPU\n",
        "tensor_cpu_gpu = tensor_cpu.to(device='cuda')"
      ],
      "metadata": {
        "id": "N4xEBq7B1o-v"
      },
      "execution_count": 13,
      "outputs": []
    }
  ]
}